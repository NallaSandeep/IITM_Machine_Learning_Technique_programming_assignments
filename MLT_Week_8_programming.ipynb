{
  "nbformat": 4,
  "nbformat_minor": 0,
  "metadata": {
    "colab": {
      "provenance": []
    },
    "kernelspec": {
      "name": "python3",
      "display_name": "Python 3"
    },
    "language_info": {
      "name": "python"
    }
  },
  "cells": [
    {
      "cell_type": "code",
      "execution_count": 9,
      "metadata": {
        "id": "IeFUTqbNKOzL"
      },
      "outputs": [],
      "source": [
        "import numpy as np\n",
        "import matplotlib.pyplot as plt"
      ]
    },
    {
      "cell_type": "markdown",
      "source": [
        "# Bernoulli naive Bayes"
      ],
      "metadata": {
        "id": "3KUeTDaZuse4"
      }
    },
    {
      "cell_type": "markdown",
      "source": [
        "Run the below cell to get the following variables:\n",
        "\n",
        "`X` = Data matrix of shape $(n, d)$. All the features are binary taking values $0$ or $1$.\n",
        "\n",
        "`y` = label vector. Labels are $0$ and $1$."
      ],
      "metadata": {
        "id": "xpHCecV1uwdn"
      }
    },
    {
      "cell_type": "code",
      "source": [
        "rng = np.random.default_rng(seed=1)\n",
        "X1 = np.concatenate((rng.binomial(size = 50,n = 1, p =0.7), rng.binomial(size = 50,n = 1, p =0.2))).reshape(-1, 1)\n",
        "X2 = np.concatenate((rng.binomial(size = 50,n = 1, p =0.6), rng.binomial(size = 50,n = 1, p =0.1))).reshape(-1, 1)\n",
        "X3 = np.concatenate((rng.binomial(size = 50,n = 1, p =0.6), rng.binomial(size = 50,n = 1, p =0.2))).reshape(-1, 1)\n",
        "X4 = np.concatenate((rng.binomial(size = 50,n = 1, p =0.8), rng.binomial(size = 50,n = 1, p =0.1))).reshape(-1, 1)\n",
        "\n",
        "\n",
        "X = np.column_stack((X1,X2,X3,X4))\n",
        "\n",
        "y = np.concatenate((np.zeros(50, dtype= int), np.ones(50, dtype = int))).reshape(-1, 1)\n",
        "permute = rng.permuted(range(100))\n",
        "\n",
        "X = X[permute]\n",
        "y = y[permute]\n"
      ],
      "metadata": {
        "id": "0PxEvCrZ3FD_"
      },
      "execution_count": 2,
      "outputs": []
    },
    {
      "cell_type": "markdown",
      "source": [
        "## Question 1\n",
        "If we train the naive Bayes model on the dataset, What will be the value of $\\hat{p}$, the estimate for $P(Y=1)$?\n",
        "\n"
      ],
      "metadata": {
        "id": "Zl_usamKCeY5"
      }
    },
    {
      "cell_type": "code",
      "source": [
        "p = np.mean(y)\n",
        "p"
      ],
      "metadata": {
        "id": "J5lPVYy-8yLf",
        "colab": {
          "base_uri": "https://localhost:8080/"
        },
        "outputId": "8f6fa9c2-686a-4db9-cc6e-9322fcb7fefd"
      },
      "execution_count": 4,
      "outputs": [
        {
          "output_type": "execute_result",
          "data": {
            "text/plain": [
              "0.5"
            ]
          },
          "metadata": {},
          "execution_count": 4
        }
      ]
    },
    {
      "cell_type": "markdown",
      "source": [
        "## Question 2\n",
        "What will be the value of $\\hat{p}_0^0$, the estimate of $P(f_0=1|y=0)$?  Write your answer correct to two decimal places.\n",
        "\n"
      ],
      "metadata": {
        "id": "yOoMZca0DGhs"
      }
    },
    {
      "cell_type": "code",
      "source": [
        "def p_Xi_yj(X, y, i,j):\n",
        "  dntr = np.count_nonzero(y == j)\n",
        "  nmtr = np.count_nonzero((X[:,i] == 1) & (y.reshape(-1) == j))\n",
        "  return nmtr/dntr"
      ],
      "metadata": {
        "id": "8sD0Ryp0fEnp"
      },
      "execution_count": 37,
      "outputs": []
    },
    {
      "cell_type": "code",
      "source": [
        "p_Xi_yj(X, y, 0,0)"
      ],
      "metadata": {
        "colab": {
          "base_uri": "https://localhost:8080/"
        },
        "id": "1tfhHmTIVX2t",
        "outputId": "67932b1a-8c9c-4793-e1d7-986d87f1088f"
      },
      "execution_count": 38,
      "outputs": [
        {
          "output_type": "execute_result",
          "data": {
            "text/plain": [
              "0.68"
            ]
          },
          "metadata": {},
          "execution_count": 38
        }
      ]
    },
    {
      "cell_type": "markdown",
      "source": [
        "## Question 3\n",
        "What will be the value of $\\hat{p}_0^1$, the estimate of $P(f_0=1|y=1)$?  Write your answer correct to two decimal places.\n",
        "\n"
      ],
      "metadata": {
        "id": "YzJLLT6-G8GC"
      }
    },
    {
      "cell_type": "code",
      "source": [
        "p_Xi_yj(X, y, 0,1)"
      ],
      "metadata": {
        "id": "q7qSgWyXfFhF",
        "colab": {
          "base_uri": "https://localhost:8080/"
        },
        "outputId": "28c6b8d5-0e99-4c4c-b444-949988f2aba4"
      },
      "execution_count": 36,
      "outputs": [
        {
          "output_type": "execute_result",
          "data": {
            "text/plain": [
              "0.26"
            ]
          },
          "metadata": {},
          "execution_count": 36
        }
      ]
    },
    {
      "cell_type": "markdown",
      "source": [
        "## Question 4\n",
        "What will be the value of $\\hat{p}_3^1$, the estimate of $P(f_3=1|y=1)$?  Write your answer correct to two decimal places.\n",
        "\n",
        "\n"
      ],
      "metadata": {
        "id": "NiciwccfHGwq"
      }
    },
    {
      "cell_type": "code",
      "source": [
        "p_Xi_yj(X, y, 3,1)"
      ],
      "metadata": {
        "id": "YtXPKjmp6zOt",
        "colab": {
          "base_uri": "https://localhost:8080/"
        },
        "outputId": "c19c45b4-aa5c-44c3-ba84-2398de820116"
      },
      "execution_count": 39,
      "outputs": [
        {
          "output_type": "execute_result",
          "data": {
            "text/plain": [
              "0.12"
            ]
          },
          "metadata": {},
          "execution_count": 39
        }
      ]
    },
    {
      "cell_type": "markdown",
      "source": [
        "## Question 5\n",
        "\n",
        "What will be the predicted label for the point $[1, 0, 1, 0]$?\n",
        "\n"
      ],
      "metadata": {
        "id": "3oJ0jnoHHcd9"
      }
    },
    {
      "cell_type": "code",
      "source": [
        "def predict(x_test, X, y):\n",
        "  p_0, p_1  = 1, 1\n",
        "  for i in range(x_test.shape[0]):\n",
        "    if (x_test[i] == 1):\n",
        "      p_0 = p_0 * p_Xi_yj(X, y, i,0)\n",
        "      p_1 = p_1 * p_Xi_yj(X, y, i,1)\n",
        "    else:\n",
        "      p_0 = p_0 * (1-p_Xi_yj(X, y, i,0))\n",
        "      p_1 = p_1 * (1-p_Xi_yj(X, y, i,1))\n",
        "  if(p_1>p_0):\n",
        "    return 1\n",
        "  else:\n",
        "    return 0"
      ],
      "metadata": {
        "id": "MoYmaBy9KQSU"
      },
      "execution_count": 42,
      "outputs": []
    },
    {
      "cell_type": "code",
      "source": [
        "predict(np.array([1,0,1,0]), X, y)"
      ],
      "metadata": {
        "colab": {
          "base_uri": "https://localhost:8080/"
        },
        "id": "ICZ-sBHUXnBD",
        "outputId": "920ce396-e6b5-4597-ac98-15bde9b94bab"
      },
      "execution_count": 43,
      "outputs": [
        {
          "output_type": "execute_result",
          "data": {
            "text/plain": [
              "1"
            ]
          },
          "metadata": {},
          "execution_count": 43
        }
      ]
    },
    {
      "cell_type": "markdown",
      "source": [
        "## Question 6\n",
        "\n",
        "What will be the predicted label for the point $[1, 0, 1, 1]$?\n",
        "\n"
      ],
      "metadata": {
        "id": "3J2SCm1yHxd4"
      }
    },
    {
      "cell_type": "code",
      "source": [
        "predict(np.array([1,0,1,1]), X, y)"
      ],
      "metadata": {
        "id": "tK04m9YU7cXy",
        "colab": {
          "base_uri": "https://localhost:8080/"
        },
        "outputId": "f5e909f8-a54e-4c72-8f60-f58548534975"
      },
      "execution_count": 44,
      "outputs": [
        {
          "output_type": "execute_result",
          "data": {
            "text/plain": [
              "0"
            ]
          },
          "metadata": {},
          "execution_count": 44
        }
      ]
    },
    {
      "cell_type": "markdown",
      "source": [
        "# Gaussian naive Bayes"
      ],
      "metadata": {
        "id": "45p6DAPA7dCl"
      }
    },
    {
      "cell_type": "markdown",
      "source": [
        "Run the below cell to get the following variables:\n",
        "\n",
        "`X_train` = Training dataset of the shape $(n, d)$. All the examples are coming from multivariate gaussian distribution.\n",
        "\n",
        "`y_train` = label vector for corresponding training examples. labels are $0$ and $1$.\n",
        "\n",
        "`X_test` = Test dataset of the shape $(m, d)$, where $m$ is the number of examples in the test dataset. All the examples are coming from multivariate gaussian distribution.\n",
        "\n",
        "`y_test` = label vector for corresponding test examples. labels are $0$ and $1$.\n",
        "\n"
      ],
      "metadata": {
        "id": "bbamhBbvjuzj"
      }
    },
    {
      "cell_type": "code",
      "source": [
        "from sklearn.datasets import make_classification, make_blobs\n",
        "from sklearn.model_selection import train_test_split\n",
        "\n",
        "# generate artificial data points\n",
        "X, y = make_blobs(n_samples = 100,\n",
        "                  n_features=2,\n",
        "                  centers=[[5,5],[10,10]],\n",
        "                  cluster_std=1.5,\n",
        "                  random_state=2)\n",
        "\n",
        "X_train, X_test, y_train, y_test = train_test_split(X, y, test_size=0.2,\n",
        "                                                    random_state=123)"
      ],
      "metadata": {
        "id": "qtqz8DPG7gok"
      },
      "execution_count": 3,
      "outputs": []
    },
    {
      "cell_type": "markdown",
      "source": [
        "## Question 7\n",
        "\n",
        "How many examples are there in the trianing dataset?\n",
        "\n"
      ],
      "metadata": {
        "id": "BRc3AVIZkphz"
      }
    },
    {
      "cell_type": "code",
      "source": [
        "n = X_train.shape[0]\n",
        "n"
      ],
      "metadata": {
        "id": "9nqy1H-nkybF",
        "colab": {
          "base_uri": "https://localhost:8080/"
        },
        "outputId": "e159c04b-5042-4dd2-9726-45a93194d18b"
      },
      "execution_count": 51,
      "outputs": [
        {
          "output_type": "execute_result",
          "data": {
            "text/plain": [
              "80"
            ]
          },
          "metadata": {},
          "execution_count": 51
        }
      ]
    },
    {
      "cell_type": "markdown",
      "source": [
        "## Question 8\n",
        "How many features are there in the dataset?\n",
        "\n"
      ],
      "metadata": {
        "id": "KhQF7arNk6xf"
      }
    },
    {
      "cell_type": "code",
      "source": [
        "d = X_train.shape[1]\n",
        "d"
      ],
      "metadata": {
        "id": "uoO-_Wv9lruv",
        "colab": {
          "base_uri": "https://localhost:8080/"
        },
        "outputId": "9b07afed-0e2b-41a2-b86f-83e234610465"
      },
      "execution_count": 52,
      "outputs": [
        {
          "output_type": "execute_result",
          "data": {
            "text/plain": [
              "2"
            ]
          },
          "metadata": {},
          "execution_count": 52
        }
      ]
    },
    {
      "cell_type": "markdown",
      "source": [
        "## Question 9\n",
        "\n",
        "If we train the Gaussian naive Bayes model on the trianing dataset, What will be the value of $\\hat{p}$, the estimate for $P(Y=1)$? Write your answer correct to two decimal places.\n",
        "\n",
        "\n",
        "\n"
      ],
      "metadata": {
        "id": "yf2hc7NDlxm8"
      }
    },
    {
      "cell_type": "code",
      "source": [
        "p = np.mean(y_train)\n",
        "p"
      ],
      "metadata": {
        "id": "LpJE6KJ5mpBp",
        "colab": {
          "base_uri": "https://localhost:8080/"
        },
        "outputId": "bf65d3ac-4201-471e-8c91-faa5c3065f1d"
      },
      "execution_count": 58,
      "outputs": [
        {
          "output_type": "execute_result",
          "data": {
            "text/plain": [
              "0.4875"
            ]
          },
          "metadata": {},
          "execution_count": 58
        }
      ]
    },
    {
      "cell_type": "markdown",
      "source": [
        "## Question 10\n",
        "\n",
        "If $\\hat{\\mu}_0 = [\\mu_1, \\mu_2, ..., \\mu_d]$ be the estimate for $\\mu_0$, the mean of $0$ labeled examples, what will be the value of $\\mu_1+\\mu_2+...+\\mu_d$? Write your answer correct to two decimal places.\n",
        "\n"
      ],
      "metadata": {
        "id": "0wQUcpH7mrZr"
      }
    },
    {
      "cell_type": "code",
      "source": [
        "def mu(X, y, label):\n",
        "  return np.mean(X[y == label], axis=0)"
      ],
      "metadata": {
        "id": "mtZ_BtxImJ0J"
      },
      "execution_count": 10,
      "outputs": []
    },
    {
      "cell_type": "code",
      "source": [
        "mu_0 = mu(X_train,y_train,0)\n",
        "np.sum(mu_0)"
      ],
      "metadata": {
        "colab": {
          "base_uri": "https://localhost:8080/"
        },
        "id": "Phxsn1CBgIGc",
        "outputId": "d6320b1b-2d68-41d1-bbbc-9afc8c5f9742"
      },
      "execution_count": 65,
      "outputs": [
        {
          "output_type": "execute_result",
          "data": {
            "text/plain": [
              "9.575936394688135"
            ]
          },
          "metadata": {},
          "execution_count": 65
        }
      ]
    },
    {
      "cell_type": "markdown",
      "source": [
        "We will be using the different covariances for different labeled examples. The estimate for $\\Sigma_k$ will be\n",
        "\n",
        "$$\\hat{\\Sigma}_k = \\sigma_iI$$ where $\\sigma_i$ is the variance of $i^{th}$ feature values of examples labeled $k$.\n",
        "\n"
      ],
      "metadata": {
        "id": "1mnoFEJQnq9E"
      }
    },
    {
      "cell_type": "markdown",
      "source": [
        "## Question 11\n",
        "What will be value of $\\text{trace}({\\hat{\\Sigma}}_0)$?  Write your answer correct to two decimal places.\n",
        "\n",
        "\n",
        "\n",
        "\n",
        "\n"
      ],
      "metadata": {
        "id": "f-aioEqdpng7"
      }
    },
    {
      "cell_type": "code",
      "source": [
        "def sigma_i(X, y, label):\n",
        "  sig = np.var(X[y == label],axis=0)\n",
        "  return np.diag(sig)\n"
      ],
      "metadata": {
        "id": "ExzW4sEOqpEF"
      },
      "execution_count": 53,
      "outputs": []
    },
    {
      "cell_type": "code",
      "source": [
        "np.trace(sigma_i(X_train, y_train, 0))"
      ],
      "metadata": {
        "colab": {
          "base_uri": "https://localhost:8080/"
        },
        "id": "exYG8duQhl_I",
        "outputId": "5f093406-5f3c-4fc2-8d2a-26f8ce1127c0"
      },
      "execution_count": 54,
      "outputs": [
        {
          "output_type": "execute_result",
          "data": {
            "text/plain": [
              "4.435204194501573"
            ]
          },
          "metadata": {},
          "execution_count": 54
        }
      ]
    },
    {
      "cell_type": "markdown",
      "source": [
        "## Question 12\n",
        "\n",
        "Once we have estimated all the parameters for Gaussian naive Bayes assuming the different covariance matrices, we predict the labels for the training examples. What will be the training accuracy?\n",
        "\n",
        "Accuracy is defined as the proportion of correctly classified examples.  Write your answer correct to two decimal places.\n",
        "\n",
        "\n"
      ],
      "metadata": {
        "id": "UKbeWd7fq1Ny"
      }
    },
    {
      "cell_type": "code",
      "source": [
        "def predict(X,y):\n",
        "  p = np.mean(y)\n",
        "  mu_0 = mu(X,y,0)\n",
        "  mu_1 = mu(X,y,1)\n",
        "  sigma_0 = sigma_i(X_train, y_train, 0)\n",
        "  sigma_1 = sigma_i(X_train, y_train, 1)\n",
        "  exp_0 = np.sum((X - mu_0) @ sigma_0 @ (X - mu_0).T, axis=1) * (1-p)\n",
        "  exp_1 = np.sum((X - mu_1) @ sigma_1 @ (X - mu_1).T, axis=1) * p\n",
        "  predictions = (exp_0 > exp_1).astype(int)\n",
        "  return np.mean((predictions == y).astype(int))"
      ],
      "metadata": {
        "id": "YIg9Z1K0GwUo"
      },
      "execution_count": 34,
      "outputs": []
    },
    {
      "cell_type": "code",
      "source": [
        "predict(X_train,y_train)"
      ],
      "metadata": {
        "colab": {
          "base_uri": "https://localhost:8080/"
        },
        "id": "OVjyje7G_XxD",
        "outputId": "0043cdd2-51ba-4352-9b83-1a3f1a8c7348"
      },
      "execution_count": 35,
      "outputs": [
        {
          "output_type": "execute_result",
          "data": {
            "text/plain": [
              "0.9875"
            ]
          },
          "metadata": {},
          "execution_count": 35
        }
      ]
    },
    {
      "cell_type": "markdown",
      "source": [
        "## Question 13\n",
        "\n",
        "What will be the test accuracy?\n",
        "\n",
        "Accuracy is defined as the proportion of correctly classified examples.  \n",
        "\n",
        "\n"
      ],
      "metadata": {
        "id": "kg661kj3uaxx"
      }
    },
    {
      "cell_type": "code",
      "source": [
        "predict(X_test,y_test)"
      ],
      "metadata": {
        "id": "ST0Ri7TEujUw",
        "colab": {
          "base_uri": "https://localhost:8080/"
        },
        "outputId": "0582fcf8-6ad4-41d7-a86e-abf8ae9b3941"
      },
      "execution_count": 36,
      "outputs": [
        {
          "output_type": "execute_result",
          "data": {
            "text/plain": [
              "1.0"
            ]
          },
          "metadata": {},
          "execution_count": 36
        }
      ]
    }
  ]
}