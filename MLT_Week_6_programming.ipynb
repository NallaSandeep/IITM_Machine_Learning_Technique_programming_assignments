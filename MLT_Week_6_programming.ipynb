{
  "nbformat": 4,
  "nbformat_minor": 0,
  "metadata": {
    "colab": {
      "provenance": []
    },
    "kernelspec": {
      "name": "python3",
      "display_name": "Python 3"
    },
    "language_info": {
      "name": "python"
    }
  },
  "cells": [
    {
      "cell_type": "code",
      "execution_count": null,
      "metadata": {
        "id": "3TDibK0Yrxm_"
      },
      "outputs": [],
      "source": [
        "import numpy as np\n",
        "import matplotlib.pyplot as plt\n"
      ]
    },
    {
      "cell_type": "markdown",
      "source": [
        "# Week-6\n",
        "\n",
        "**Note:**:\n",
        "\n",
        "- For questions that involve plotting, just enter $0$ as the answer in the portal.\n",
        "\n"
      ],
      "metadata": {
        "id": "1TBHlt7hAdN1"
      }
    },
    {
      "cell_type": "markdown",
      "source": [
        "## Dataset\n",
        "\n",
        "Run the cell given below to generate the data-matrix $X$ and target vector $y$. $X$ is of shape $(n, d)$, where $n$ denotes the number of samples and $d$ denotes the number of features. $y$ is of shape $(n,)$. You will be using this dataset for the rest of the assignment.\n",
        "\n",
        "**Do not edit this cell.**"
      ],
      "metadata": {
        "id": "XJKrscLo9qwH"
      }
    },
    {
      "cell_type": "code",
      "source": [
        "from sklearn.datasets import load_diabetes\n",
        "X, y = load_diabetes(return_X_y = True)\n",
        "\n",
        "# set the random seed value to 0\n",
        "np.random.seed(0)"
      ],
      "metadata": {
        "id": "GIygEzr49Xvf"
      },
      "execution_count": 58,
      "outputs": []
    },
    {
      "cell_type": "markdown",
      "source": [
        "## Problem 1\n",
        "How many samples are there in the dataset?\n",
        "\n"
      ],
      "metadata": {
        "id": "VAONMkaU91v7"
      }
    },
    {
      "cell_type": "markdown",
      "source": [
        "## Solution"
      ],
      "metadata": {
        "id": "LnXmn5t-V8Us"
      }
    },
    {
      "cell_type": "code",
      "source": [
        "X.shape[0]"
      ],
      "metadata": {
        "id": "U_WEAtwXDqVF",
        "colab": {
          "base_uri": "https://localhost:8080/"
        },
        "outputId": "874d62a2-09cd-4033-de6b-8036ddad6f20"
      },
      "execution_count": null,
      "outputs": [
        {
          "output_type": "execute_result",
          "data": {
            "text/plain": [
              "442"
            ]
          },
          "metadata": {},
          "execution_count": 3
        }
      ]
    },
    {
      "cell_type": "markdown",
      "source": [
        "## Problem 2\n",
        "\n",
        "How many features are there in the dataset?\n",
        "\n"
      ],
      "metadata": {
        "id": "ozjMS6e_91y3"
      }
    },
    {
      "cell_type": "markdown",
      "source": [
        "## Solution"
      ],
      "metadata": {
        "id": "xvFvIHN9V_s7"
      }
    },
    {
      "cell_type": "code",
      "source": [
        "X.shape[1]"
      ],
      "metadata": {
        "id": "ii_yZn4N-Di8",
        "colab": {
          "base_uri": "https://localhost:8080/"
        },
        "outputId": "44128f91-eb38-44e3-c045-1c7a50d8848a"
      },
      "execution_count": null,
      "outputs": [
        {
          "output_type": "execute_result",
          "data": {
            "text/plain": [
              "10"
            ]
          },
          "metadata": {},
          "execution_count": 4
        }
      ]
    },
    {
      "cell_type": "markdown",
      "source": [
        "## Problem 3\n",
        "Write a function `shuffle_data(X, y)` that returns the shuffled $X$ and $y$.\n",
        "\n",
        "Note that it should shuffle the data pairs $(x_i, y_i)$.\n",
        "\n",
        "What will be the mean of the first 5 values in $y$?\n",
        "\n"
      ],
      "metadata": {
        "id": "HxIZaojUVGIL"
      }
    },
    {
      "cell_type": "code",
      "source": [
        "def shuffle_data(X, y):\n",
        "  np.random.seed(0)\n",
        "  combined_data = np.column_stack((X,y))\n",
        "  np.random.shuffle(combined_data)\n",
        "  X_new = combined_data[:,:-1]\n",
        "  y_new = combined_data[:,-1]\n",
        "  return X_new, y_new\n",
        "\n",
        "shuffled_X, shuffled_y = shuffle_data(X, y)\n",
        "np.mean(shuffled_y[:5])"
      ],
      "metadata": {
        "id": "uLGsJyGkdgug",
        "colab": {
          "base_uri": "https://localhost:8080/"
        },
        "outputId": "4d70a274-5d74-4937-b9c0-2d070983449b"
      },
      "execution_count": null,
      "outputs": [
        {
          "output_type": "execute_result",
          "data": {
            "text/plain": [
              "180.4"
            ]
          },
          "metadata": {},
          "execution_count": 21
        }
      ]
    },
    {
      "cell_type": "markdown",
      "source": [
        "## Problem 4\n",
        "\n",
        "Write a function `train_test_split(X, y, test_size)` that divides the data (X, y) into $X_{train}$, $X_{test}$, $y_{train}$, $y_{test}$ respectively as per test_size which should be a value between 0 and 1.\n",
        "\n",
        "That is, if test_size = $t$, then `int(t*n)` data points should go to test and the remaining data points should go to train.\n",
        "\n",
        "$X_{train}$, $X_{test}$, $y_{train}$, $y_{test}$ should be returned by the function.\n",
        "\n",
        "Set the test_size to be 0.25 and output the sum of all y values settling in $y_{test}$.\n",
        "\n",
        "\n",
        "\n",
        "\n",
        "\n",
        "\n"
      ],
      "metadata": {
        "id": "pfsUsn_8WSXZ"
      }
    },
    {
      "cell_type": "code",
      "source": [
        "def train_test_split(X, y, test_size):\n",
        "  np.random.seed(0)\n",
        "  total_size = X.shape[0]\n",
        "  test_sample_size = int(test_size * total_size)\n",
        "  train_sample_size = total_size - test_sample_size\n",
        "  indices = np.arange(total_size)\n",
        "  np.random.shuffle(indices)\n",
        "  test_indices = indices[train_sample_size:]\n",
        "  train_indices = indices[:train_sample_size]\n",
        "  X_train = X[train_indices]\n",
        "  X_test = X[test_indices]\n",
        "  y_train = y[train_indices]\n",
        "  y_test = y[test_indices]\n",
        "  return X_train, X_test, y_train, y_test\n",
        "test_size = 0.25\n",
        "X_train, X_test, y_train, y_test = train_test_split(X, y, test_size)\n",
        "np.sum(y_test)"
      ],
      "metadata": {
        "id": "Y5VZVbT8dg2b",
        "colab": {
          "base_uri": "https://localhost:8080/"
        },
        "outputId": "8f00f846-416a-4e73-c49b-40ec97b46d04"
      },
      "execution_count": 59,
      "outputs": [
        {
          "output_type": "execute_result",
          "data": {
            "text/plain": [
              "16960.0"
            ]
          },
          "metadata": {},
          "execution_count": 59
        }
      ]
    },
    {
      "cell_type": "markdown",
      "source": [
        "## Problem 5\n",
        "\n",
        "What are the shapes of $X_{train}$, $X_{test}$, $y_{train}$, $y_{test}$ respectively?\n",
        "\n"
      ],
      "metadata": {
        "id": "D67g0r9ad8Ea"
      }
    },
    {
      "cell_type": "code",
      "source": [
        "print(X_train.shape)\n",
        "print(X_test.shape)\n",
        "print(y_train.shape)\n",
        "print(y_test.shape)"
      ],
      "metadata": {
        "id": "kTPAakKblF7q",
        "colab": {
          "base_uri": "https://localhost:8080/"
        },
        "outputId": "b62eff10-78ec-4294-e8e0-aae2d728ad77"
      },
      "execution_count": null,
      "outputs": [
        {
          "output_type": "stream",
          "name": "stdout",
          "text": [
            "(332, 10)\n",
            "(110, 10)\n",
            "(332,)\n",
            "(110,)\n"
          ]
        }
      ]
    },
    {
      "cell_type": "markdown",
      "source": [
        "## Problem 6\n",
        "Add a dummy feature, i.e., a column containing all 1's (as the first column) in $X_{train}$ and $X_{test}$.\n",
        "\n",
        "Take the transpose of both $X_{train}$ and $X_{test}$.\n",
        "\n",
        "What are the shapes of $X_{train}$ and $X_{test}$?\n",
        "\n"
      ],
      "metadata": {
        "id": "nYgSo6DLe0n-"
      }
    },
    {
      "cell_type": "code",
      "source": [
        "dummy_train = np.ones((X_train.shape[0], 1))\n",
        "new_X_train = np.column_stack((dummy_train, X_train)).T\n",
        "dummy_test = np.ones((X_test.shape[0],1))\n",
        "new_X_test = np.column_stack((dummy_test, X_test)).T\n",
        "print(new_X_train.shape)\n",
        "print(new_X_test.shape)"
      ],
      "metadata": {
        "id": "Lgv2V9qnnNv3",
        "colab": {
          "base_uri": "https://localhost:8080/"
        },
        "outputId": "13922c5a-1a29-4004-f081-90ebe85eebe1"
      },
      "execution_count": 60,
      "outputs": [
        {
          "output_type": "stream",
          "name": "stdout",
          "text": [
            "(11, 332)\n",
            "(11, 110)\n"
          ]
        }
      ]
    },
    {
      "cell_type": "markdown",
      "source": [
        "## Problem 7\n",
        "\n",
        "Write a function `compute_weights(X, y)` that uses the closed form formula of linear regression and returns a weight vector.\n",
        "\n",
        "Call this function by passing $X_{train}$ and $y_{train}$. As the dummy feature was added as the first column, the first value in the weight vector will be the intercept. What is its value (rounded to one decimal place)?\n",
        "\n"
      ],
      "metadata": {
        "id": "mYY6hNkYf7gr"
      }
    },
    {
      "cell_type": "code",
      "source": [
        "def compute_weights(X, y):\n",
        "  t1 = X @ X.T\n",
        "  t1_pinv = np.linalg.pinv(t1)\n",
        "  t2 = X @ y\n",
        "  return t1_pinv @ t2\n",
        "weights = compute_weights(new_X_train, y_train)\n",
        "weights[0]"
      ],
      "metadata": {
        "id": "XWxPR8N5nc17",
        "colab": {
          "base_uri": "https://localhost:8080/"
        },
        "outputId": "f890a615-47c3-4aac-d507-a35832edc7e4"
      },
      "execution_count": 61,
      "outputs": [
        {
          "output_type": "execute_result",
          "data": {
            "text/plain": [
              "150.80818854686086"
            ]
          },
          "metadata": {},
          "execution_count": 61
        }
      ]
    },
    {
      "cell_type": "markdown",
      "source": [
        "## Problem 8\n",
        "\n",
        "Write a function `MSE(X, y, w)` that returns the mean squared error for the given `X`, `y` as per `w` values.\n",
        "\n",
        "Using this function, compute the train error and test error.\n",
        "\n",
        "Note: Here `y` is the true `y` for `X`.\n",
        "\n",
        "Compute both train and test error.\n",
        "\n",
        "What is the value of test error?\n"
      ],
      "metadata": {
        "id": "XUKviVRZoh2j"
      }
    },
    {
      "cell_type": "code",
      "source": [
        "def MSE(X, y, w):\n",
        "  y_pred = X.T @ w\n",
        "  mse = np.mean((y-y_pred)**2)\n",
        "  return mse\n",
        "\n",
        "mse_train = MSE(new_X_train, y_train, weights)\n",
        "mse_test = MSE(new_X_test, y_test, weights)\n",
        "print(mse_test)"
      ],
      "metadata": {
        "id": "PkAULslJD48q",
        "colab": {
          "base_uri": "https://localhost:8080/"
        },
        "outputId": "c0f4ec16-a803-45a6-a964-258b57f29e04"
      },
      "execution_count": 62,
      "outputs": [
        {
          "output_type": "stream",
          "name": "stdout",
          "text": [
            "2745.430111174358\n"
          ]
        }
      ]
    },
    {
      "cell_type": "markdown",
      "source": [
        "## Problem 9\n",
        "\n",
        "Write a function `compute_weights_ridge(X, y)` that uses the closed form formula of Ridge regression and returns a weight vector.\n",
        "\n",
        "Call this function by passing  `X_train`, `y_train` and 0.3 as the value of regularization strength.\n",
        "\n",
        "\n",
        "Find the sum of values in the weight vector obtained. How much reduction in total sum of weights is achieved with respect to the the weight vector obtained from 'plain' linear regression (without regularization) computed earlier.\n"
      ],
      "metadata": {
        "id": "mZZVbejulHyv"
      }
    },
    {
      "cell_type": "code",
      "source": [
        "def compute_weights_ridge(X, y, lamb):\n",
        "  t1 = X @ X.T + lamb * np.identity(X.shape[0])\n",
        "  t1_pinv = np.linalg.pinv(t1)\n",
        "  t2 = X @ y\n",
        "  return t1_pinv @ t2\n",
        "\n",
        "lamb = 0.3\n",
        "weights_ridge = compute_weights_ridge(new_X_train, y_train, lamb)\n",
        "redn = np.sum(weights) - np.sum(weights_ridge)\n",
        "print(redn)"
      ],
      "metadata": {
        "id": "LCyCWK9dqZm1",
        "colab": {
          "base_uri": "https://localhost:8080/"
        },
        "outputId": "6771e360-c502-46f3-8ff2-d8de21f9872c"
      },
      "execution_count": 63,
      "outputs": [
        {
          "output_type": "stream",
          "name": "stdout",
          "text": [
            "680.0350238507235\n"
          ]
        }
      ]
    },
    {
      "cell_type": "markdown",
      "source": [
        "## Problem 10\n",
        "\n",
        "Compute the train error and test error. What is their absolute difference?\n",
        "\n"
      ],
      "metadata": {
        "id": "LC9Au6sPt1oT"
      }
    },
    {
      "cell_type": "code",
      "source": [
        "mse_train_ridge = MSE(new_X_train, y_train, weights_ridge)\n",
        "mse_test_ridge = MSE(new_X_test, y_test, weights_ridge)\n",
        "print(mse_train_ridge - mse_test_ridge)"
      ],
      "metadata": {
        "id": "iOUjJJpZ3BaZ",
        "colab": {
          "base_uri": "https://localhost:8080/"
        },
        "outputId": "7c153c43-49fd-4007-fefd-990b745826aa"
      },
      "execution_count": null,
      "outputs": [
        {
          "output_type": "stream",
          "name": "stdout",
          "text": [
            "99.46973870899501\n"
          ]
        }
      ]
    },
    {
      "cell_type": "markdown",
      "source": [
        "## Problem 11\n",
        "\n",
        "Use 10 different values between 0 and 5 as the regularization strength and keep a record of the weight vectors obtained for each. Further, calculate the sum of weights for each weight vector.\n",
        "\n",
        "Plot these sums of weights (on y-axis) with respect to the regularization strength (on x-axis) and observe the reduction in (sum of) weights.\n",
        "\n"
      ],
      "metadata": {
        "id": "Wn6-FG5puh8O"
      }
    },
    {
      "cell_type": "code",
      "source": [
        "np.random.seed(0)\n",
        "count = 10\n",
        "lamb = np.linspace(0, 5, num=count)\n",
        "sum_weights_ridge = np.zeros(count)\n",
        "for i in range(count):\n",
        "  weights_ridge = compute_weights_ridge(new_X_train, y_train, lamb[i])\n",
        "  sum_weights_ridge[i] = np.sum(weights_ridge)\n",
        "\n",
        "plt.plot(lamb, sum_weights_ridge)\n",
        "plt.xlabel(\"regularization strength\")\n",
        "plt.ylabel(\"sum of weights\")\n",
        "plt.show()"
      ],
      "metadata": {
        "id": "zlzueWYWwtSi",
        "colab": {
          "base_uri": "https://localhost:8080/",
          "height": 449
        },
        "outputId": "4c2d39f2-6b26-4dd5-e0d3-ed50ff5e84e8"
      },
      "execution_count": 64,
      "outputs": [
        {
          "output_type": "display_data",
          "data": {
            "text/plain": [
              "<Figure size 640x480 with 1 Axes>"
            ],
            "image/png": "[encoded data removed]"
          },
          "metadata": {}
        }
      ]
    }
  ]
}