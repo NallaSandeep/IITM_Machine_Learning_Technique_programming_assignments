{
  "nbformat": 4,
  "nbformat_minor": 0,
  "metadata": {
    "colab": {
      "provenance": []
    },
    "kernelspec": {
      "name": "python3",
      "display_name": "Python 3"
    },
    "language_info": {
      "name": "python"
    }
  },
  "cells": [
    {
      "cell_type": "markdown",
      "source": [
        "# Week-4: Part-2\n"
      ],
      "metadata": {
        "id": "53TcQvUOjGxr"
      }
    },
    {
      "cell_type": "code",
      "source": [
        "import numpy as np\n",
        "import matplotlib.pyplot as plt\n",
        "# Set size of figure\n",
        "plt.rcParams['figure.figsize'] = [8, 8]\n",
        "# Set size of font\n",
        "plt.rcParams['font.size'] = 10"
      ],
      "metadata": {
        "id": "FasmVZvHPgMW"
      },
      "execution_count": 51,
      "outputs": []
    },
    {
      "cell_type": "markdown",
      "source": [
        "## GMM\n",
        "\n",
        "Now that we know how to sample from simple distributions like the Bernoulli and Gaussian, we shall move to sampling from a GMM. There are two steps here:\n",
        "\n",
        "- Pick a mixture $k$ from $K$ mixtures based on the categorical distribution governing it\n",
        "- Sample a point from the $k^{th}$ Gaussian"
      ],
      "metadata": {
        "id": "7A9Gri4ZP1oK"
      }
    },
    {
      "cell_type": "markdown",
      "source": [
        "## Problem-1\n",
        "\n",
        "Consider a GMM with $K = 3$. The mixture probabilities are given below. It is easier to work with zero-indexing, hence we will index our mixtures starting from $0$:\n",
        "\n",
        "$$\n",
        "\\pi_0 = 0.3\\\\\n",
        "\\pi_1 = 0.5\\\\\n",
        "\\pi_2 = 0.2\n",
        "$$\n",
        "\n",
        "Perform step-1 of the sampling process by choosing one of the three mixtures based on the above distribution. Call this value $k$. Use the cell given below for all your computation. Do not change the seed value. Enter $k$ as your answer."
      ],
      "metadata": {
        "id": "1GlVAG9-8qFY"
      }
    },
    {
      "cell_type": "code",
      "source": [
        "### RNG ###\n",
        "rng = np.random.default_rng(seed = 1001)\n",
        "k1 = rng.choice([0,1,2],size=1,p=[0.3,0.5,0.2])\n",
        "k = k1[0]\n",
        "k"
      ],
      "metadata": {
        "id": "aQqjseA3RYkB",
        "colab": {
          "base_uri": "https://localhost:8080/"
        },
        "outputId": "32ae24bb-261e-4b9c-867f-1e1c938f5b1f"
      },
      "execution_count": 52,
      "outputs": [
        {
          "output_type": "execute_result",
          "data": {
            "text/plain": [
              "1"
            ]
          },
          "metadata": {},
          "execution_count": 52
        }
      ]
    },
    {
      "cell_type": "markdown",
      "source": [
        "## Problem-2\n",
        "\n",
        "Now we move to step-2 of the sampling process. Sample a point from mixture $k$ (obtained from the previous question). The means and variances of the mixtures are as follows:\n",
        "\n",
        "$$\n",
        "\\mu_1 = -4, \\sigma_1^2 = 2\\\\\n",
        "\\mu_2 = 0, \\sigma_2^2 = 1\\\\\n",
        "\\mu_3 = 5, \\sigma_3^2 = 3\n",
        "$$\n",
        "\n",
        "\n",
        "Use the cell given below for all your computation. Enter the sampled point correct to three decimal places."
      ],
      "metadata": {
        "id": "4hd29e0n9mar"
      }
    },
    {
      "cell_type": "code",
      "source": [
        "### RNG ###\n",
        "import math\n",
        "rng = np.random.default_rng(seed = 1001)\n",
        "mu = [-4,0,5]\n",
        "sigma_2 = [2,1,3]\n",
        "y = rng.normal(mu[k], math.sqrt(sigma_2[k]), 1)\n",
        "y"
      ],
      "metadata": {
        "id": "D0TUgnKG91t2",
        "colab": {
          "base_uri": "https://localhost:8080/"
        },
        "outputId": "05cd1929-6a35-472f-bcc9-476a1046c650"
      },
      "execution_count": 53,
      "outputs": [
        {
          "output_type": "execute_result",
          "data": {
            "text/plain": [
              "array([0.93232244])"
            ]
          },
          "metadata": {},
          "execution_count": 53
        }
      ]
    },
    {
      "cell_type": "markdown",
      "source": [
        "## Problem-3\n",
        "\n",
        "Now that we have sampled one point, we are ready to do more. Sample $100,000$ points from the GMM. Generate each point step by step. Store the samples in a NumPy array `X` of shape $(100,000, )$. `X[i]` should hold the value of the $i^{th}$ point generated from the GMM.  Use the cell below for all your computation. Enter the mean of `X` as your answer correct to three decimal places."
      ],
      "metadata": {
        "id": "7FnbGy4p-jeK"
      }
    },
    {
      "cell_type": "code",
      "source": [
        "### RNG ###\n",
        "rng = np.random.default_rng(seed = 1001)\n",
        "n = 100000\n",
        "k1 = rng.choice([0,1,2],size=n,p=[0.3,0.5,0.2])\n",
        "mu = [-4,0,5]\n",
        "sigma_2 = [2,1,3]\n",
        "X = np.zeros(n)\n",
        "for i in range(n):\n",
        "  X[i] = rng.normal(mu[k1[i]], math.sqrt(sigma_2[k1[i]]))\n",
        "# print(X)\n",
        "np.mean(X)"
      ],
      "metadata": {
        "id": "XA8gv2jq-rTC",
        "colab": {
          "base_uri": "https://localhost:8080/"
        },
        "outputId": "a3464d5e-7b68-40db-933f-6d07e68b3835"
      },
      "execution_count": 54,
      "outputs": [
        {
          "output_type": "execute_result",
          "data": {
            "text/plain": [
              "-0.20772788090615285"
            ]
          },
          "metadata": {},
          "execution_count": 54
        }
      ]
    },
    {
      "cell_type": "markdown",
      "source": [
        "## Problem-4\n",
        "\n",
        "Plot a histogram of the dataset. Play around with the `bins` parameter of the `plt.hist` method. We will be using this dataset `X` all through the next section of the colab."
      ],
      "metadata": {
        "id": "2heXmKhI_uXb"
      }
    },
    {
      "cell_type": "code",
      "source": [
        "def draw_hist(X):\n",
        "  plt.hist(X, bins=100)\n",
        "  plt.xlabel('data')\n",
        "  plt.ylabel('pdf')\n",
        "  plt.show()\n",
        "draw_hist(X)"
      ],
      "metadata": {
        "id": "lpor62HP_xPF",
        "colab": {
          "base_uri": "https://localhost:8080/",
          "height": 696
        },
        "outputId": "2a8030bf-786e-4c1b-ca4a-a559eae657dd"
      },
      "execution_count": 55,
      "outputs": [
        {
          "output_type": "display_data",
          "data": {
            "text/plain": [
              "<Figure size 800x800 with 1 Axes>"
            ],
            "image/png": "[encoded data removed]"
          },
          "metadata": {}
        }
      ]
    },
    {
      "cell_type": "markdown",
      "source": [
        "## EM algorithm\n",
        "\n",
        "It is time to start coding up the EM algorithm from scratch. We will break this down into five stages:\n",
        "\n",
        "- Initialization\n",
        "- E-step\n",
        "- M-step\n",
        "- Stopping criterion\n",
        "- Algorithm\n",
        "\n",
        "For each of the first four stages, we will write functions that are related to that stage. All these functions will be eventually used in the code for the EM algorithm. This is a modular approach to writing the code. We have identified four blocks or stages. We can independently work on these four blocks and finally combine them. If something goes wrong, we can quickly localize the problem to one of these four blocks.\n"
      ],
      "metadata": {
        "id": "t1VFwTY0ArhB"
      }
    },
    {
      "cell_type": "markdown",
      "source": [
        "## Problem-5\n",
        "\n",
        "Write a function `init` that initializes the parameters of the GMM and returns `theta_0`, a NumPy array of shape $(3K, )$. The first $K$ elements of `theta_0` ($\\boldsymbol{\\theta}^{(0)}$) represents the means of the three mixtures, the next $K$ represent the variances and the last $K$ represent the mixture probabilities.\n",
        "\n",
        "The exact values to be used are as follows:\n",
        "\n",
        "- $\\mu_0 = 1, \\mu_1 = 2, \\mu_2 = 3$\n",
        "- $\\sigma_0^2 = \\sigma_1^2 = \\sigma_2^2 = 1$\n",
        "- $\\pi_0 = \\pi_1 = \\pi_2 = 1/3$\n",
        "\n",
        "Enter $||\\boldsymbol{\\theta}^{(0)}||$ as your answer correct to two decimal places. Keep this variable `theta_0` as it will be used in subsequent problems."
      ],
      "metadata": {
        "id": "YuhQSnp0BChl"
      }
    },
    {
      "cell_type": "code",
      "source": [
        "def init():\n",
        "  mu = np.array([1,2,3])\n",
        "  sigma_2 = np.array([1,1,1])\n",
        "  p = np.array([1/3,1/3,1/3])\n",
        "  theta = np.concatenate((mu, sigma_2, p))\n",
        "  return theta\n",
        "theta_0 = init()\n",
        "np.linalg.norm(theta_0)"
      ],
      "metadata": {
        "id": "HKe2dspvIUgE",
        "colab": {
          "base_uri": "https://localhost:8080/"
        },
        "outputId": "42c5ccfd-2d42-45d9-ca5d-6e8907c1894c"
      },
      "execution_count": 83,
      "outputs": [
        {
          "output_type": "execute_result",
          "data": {
            "text/plain": [
              "4.163331998932265"
            ]
          },
          "metadata": {},
          "execution_count": 83
        }
      ]
    },
    {
      "cell_type": "markdown",
      "source": [
        "## Problem-6\n",
        "\n",
        "Write a function `estep` that accepts `theta` and `X` as arguments. It should perform the E-step and return an array `lamb` of shape `(n, K)`. The element `lamb[i][k]` is equal to $\\lambda_k^{i}$. For the purposes of evaluation, run the function on `theta_0` and `X`. Call the returned value `lamb_1`.  Compute the sum of the zeroth column of the matrix `lamb_1` and enter that as your answer correct to two decimal places. Keep this variable `lamb_1` as it will be used in subsequent problems.\n",
        "\n",
        "\n",
        "**Aside**: We prefer the variable name `lamb` over `lambda` for a reason. Can you guess why?"
      ],
      "metadata": {
        "id": "EgsmXOKYJ76X"
      }
    },
    {
      "cell_type": "code",
      "source": [
        "def estep(theta, X):\n",
        "  n = X.shape[0]\n",
        "  K = theta.shape[0] // 3\n",
        "  lamb = np.zeros((n, K))\n",
        "  for i in range(n):\n",
        "    for j in range(K):\n",
        "      mu = theta[3*0+j]\n",
        "      sigma_2 = theta[3*1+j]\n",
        "      p = theta[3*2+j]\n",
        "      lamb[i][j] = p * np.exp(-(X[i] - mu)**2 / (2 * sigma_2)) / (np.sqrt(2 * np.pi * sigma_2))\n",
        "    lamb[i] /= np.sum(lamb[i])\n",
        "  return lamb\n",
        "\n",
        "lamb_1 = estep(theta_0, X)\n",
        "np.sum(lamb_1[:, 0])"
      ],
      "metadata": {
        "id": "kKH7zNZ6IJsb",
        "colab": {
          "base_uri": "https://localhost:8080/"
        },
        "outputId": "bfb95d40-c27f-426f-dd30-04d5a78faed5"
      },
      "execution_count": 84,
      "outputs": [
        {
          "output_type": "execute_result",
          "data": {
            "text/plain": [
              "68299.29496479324"
            ]
          },
          "metadata": {},
          "execution_count": 84
        }
      ]
    },
    {
      "cell_type": "markdown",
      "source": [
        "## Problem-7\n",
        "\n",
        "Write a function `mstep` that accepts `lamb` and `X` as arguments. It should perform the M-step and return a NumPy array `theta`, the updated parameters, namely. We follow the same convention for storing the parameters as was done during the init step. For the purposes of evaluation, compute the value of the function for `lamb_1` and `X`. Call the returned value `theta_1` ($\\boldsymbol{\\theta}^{(1)}$). Enter $||\\boldsymbol{\\theta}^{(1)}||$  as your answer correct to two decimal places."
      ],
      "metadata": {
        "id": "Fqnf831nLAlP"
      }
    },
    {
      "cell_type": "code",
      "source": [
        "def mstep(lamb, X):\n",
        "  mu = np.dot(lamb.T, X)/np.sum(lamb, axis=0)\n",
        "  l = mu.shape[0]\n",
        "  sigma = np.zeros(l)\n",
        "  for i in range(l):\n",
        "    diff = X-mu[i]\n",
        "    lambi = lamb[:, i]\n",
        "    weighted_diff = lambi * diff\n",
        "    sigma[i] = np.dot(weighted_diff[:, np.newaxis].T, diff)[0]/np.sum(lambi)\n",
        "    sigma[i] = ((diff ** 2) * lambi).sum() / lambi.sum()\n",
        "  p = np.mean(lamb, axis=0)\n",
        "  theta = np.concatenate((mu, sigma, p))\n",
        "  return theta\n",
        "\n",
        "theta_1 = mstep(lamb_1, X)\n",
        "np.linalg.norm(theta_1)"
      ],
      "metadata": {
        "id": "k9FSc2QiITDs",
        "colab": {
          "base_uri": "https://localhost:8080/"
        },
        "outputId": "b93bfea0-8742-4c87-c3b4-9da6db19dddc"
      },
      "execution_count": 85,
      "outputs": [
        {
          "output_type": "execute_result",
          "data": {
            "text/plain": [
              "8.655662475552424"
            ]
          },
          "metadata": {},
          "execution_count": 85
        }
      ]
    },
    {
      "cell_type": "markdown",
      "source": [
        "## Problem-8\n",
        "\n",
        "Given two vectors $\\boldsymbol{\\theta}^{(t)}$ and $\\boldsymbol{\\theta}^{(t + 1)}$, write a function `distance` that accepts these two vectors as arguments and returns the distance between them:\n",
        "\n",
        "$$\n",
        "||\\boldsymbol{\\theta}^{(t + 1)} - \\boldsymbol{\\theta}^{(t)}||\n",
        "$$\n",
        "\n",
        "For the purposes of evaluation, compute the distance between $\\boldsymbol{\\theta}^{(0)}$ and $\\boldsymbol{\\theta}^{(1)}$ and report your answer correct to two decimal places."
      ],
      "metadata": {
        "id": "0SLzBm4fLRSK"
      }
    },
    {
      "cell_type": "code",
      "source": [
        "def distance(theta_1, theta_0):\n",
        "  diff = theta_1 - theta_0\n",
        "  return np.linalg.norm(diff)\n",
        "d = distance(theta_1,theta_0)\n",
        "d"
      ],
      "metadata": {
        "id": "f-dyb9_4IVwI",
        "colab": {
          "base_uri": "https://localhost:8080/"
        },
        "outputId": "1fcb48b9-d371-4c2f-f850-ce9b1c787336"
      },
      "execution_count": 86,
      "outputs": [
        {
          "output_type": "execute_result",
          "data": {
            "text/plain": [
              "6.2353116402083275"
            ]
          },
          "metadata": {},
          "execution_count": 86
        }
      ]
    },
    {
      "cell_type": "markdown",
      "source": [
        "## Problem-9\n",
        "\n",
        "Perform the EM algorithm until convergence. The stopping-criterion is that the distance between the two parameter-vectors should be less than $0.01$.\n",
        "\n",
        "$$\n",
        "||\\boldsymbol{\\theta}^{(t + 1)} - \\boldsymbol{\\theta}^{(t)}|| < 0.01\n",
        "$$\n",
        "\n",
        "\n",
        "Initialize the parameters to $\\boldsymbol{\\theta}^{(0)}$. Find the number of iterations it takes for the algorithm to converge. Enter this as your answer.\n",
        "\n",
        "This is going to take some time. Hold tight!"
      ],
      "metadata": {
        "id": "FFQwFcH6MELs"
      }
    },
    {
      "cell_type": "code",
      "source": [
        "c = 1\n",
        "while distance(theta_1,theta_0) >= 0.01:\n",
        "  theta_0 = theta_1\n",
        "  lamb_1 = estep(theta_0, X)\n",
        "  theta_1 = mstep(lamb_1, X)\n",
        "  print(c, distance(theta_1,theta_0), theta_0)\n",
        "  c = c+1\n",
        "\n",
        "c"
      ],
      "metadata": {
        "id": "lqRgxVx2IXMp",
        "colab": {
          "base_uri": "https://localhost:8080/"
        },
        "outputId": "34795720-894f-41d9-c9a9-10f84407ba9c"
      },
      "execution_count": 87,
      "outputs": [
        {
          "output_type": "stream",
          "name": "stdout",
          "text": [
            "1 0.8556333971420288 [-1.85572854  1.08588972  4.90974705  4.98929485  2.52217555  3.79726169\n",
            "  0.68299295  0.12989575  0.1871113 ]\n",
            "2 0.8093858279777963 [-1.78482844  0.79173744  5.06563251  5.44324198  1.9444229   3.52112429\n",
            "  0.6838507   0.13773569  0.17841361]\n",
            "3 0.6180462630132117 [-1.76724798  0.5714492   5.19034602  5.71258205  1.39706227  3.0538118\n",
            "  0.6770601   0.14881575  0.17412415]\n",
            "4 0.3841379149176617 [-1.78286142  0.42749781  5.27980912  5.92267926  0.9910176   2.67497238\n",
            "  0.66324136  0.16554623  0.17121242]\n",
            "5 0.22792665291986441 [-1.81984409  0.34140386  5.33239541  6.10803313  0.75367415  2.46388897\n",
            "  0.64470008  0.18615017  0.16914975]\n",
            "6 0.135253208538001 [-1.86579385  0.28813242  5.35610504  6.2586827   0.62994315  2.3763433\n",
            "  0.6256422   0.20629713  0.16806067]\n",
            "7 0.0779495692922844 [-1.91175216  0.2528789   5.36038139  6.35892819  0.56854081  2.35291204\n",
            "  0.60908527  0.22295825  0.16795648]\n",
            "8 0.052888573826207784 [-1.95388218  0.22877248  5.35295916  6.40862847  0.54013562  2.36008701\n",
            "  0.59580402  0.23559673  0.16859925]\n",
            "9 0.05387396851759476 [-1.9919729   0.21231286  5.33921072  6.41842351  0.52925114  2.38177929\n",
            "  0.58526335  0.24503424  0.16970241]\n",
            "10 0.06252812355409255 [-2.02719126  0.20133094  5.32239994  6.40034048  0.52767214  2.41006153\n",
            "  0.57662743  0.25232074  0.17105183]\n",
            "11 0.07044171140048908 [-2.06076223  0.19428981  5.30431482  6.36362181  0.53098915  2.44095129\n",
            "  0.56920685  0.25827474  0.17251841]\n",
            "12 0.07651606521309998 [-2.09356756  0.19004821  5.28585167  6.31439573  0.53682878  2.47251478\n",
            "  0.56253504  0.26343199  0.17403297]\n",
            "13 0.0811379062192149 [-2.12615448  0.18775876  5.26741918  6.25651953  0.54392053  2.50389833\n",
            "  0.55632011  0.26811897  0.17556092]\n",
            "14 0.08477499811215297 [-2.1588422   0.18680186  5.24918045  6.19240469  0.55159332  2.53479641\n",
            "  0.55038365  0.27253074  0.17708561]\n",
            "15 0.08777285448535706 [-2.19181636  0.18673179  5.23118537  6.1235744   0.55950087  2.56515885\n",
            "  0.54461567  0.27678521  0.17859911]\n",
            "16 0.0903667667508003 [-2.22519123  0.18723187  5.21343821  6.05100025  0.56747141  2.5950363\n",
            "  0.53894643  0.2809561   0.18009747]\n",
            "17 0.09271569301960994 [-2.25904552  0.18807864  5.19592986  5.97530139  0.57542578  2.62450406\n",
            "  0.53332984  0.28509173  0.18157844]\n",
            "18 0.09492754946899892 [-2.2934413   0.18911455  5.17865196  5.89686521  0.5833329   2.65362853\n",
            "  0.52773402  0.28922561  0.18304037]\n",
            "19 0.0970754206005474 [-2.32843323  0.19022781  5.16160221  5.81592368  0.59118587  2.68245518\n",
            "  0.52213591  0.29338237  0.18448172]\n",
            "20 0.09920779911808673 [-2.36407247  0.1913379   5.14478592  5.73260387  0.59898921  2.71100647\n",
            "  0.51651813  0.29758105  0.18590081]\n",
            "21 0.10135519082842895 [-2.400408    0.19238531  5.128216    5.64696272  0.60675216  2.7392836\n",
            "  0.51086721  0.30183708  0.18729571]\n",
            "22 0.10353447162611484 [-2.4374865   0.19332432  5.11191243  5.55901188  0.61448529  2.76726932\n",
            "  0.50517252  0.30616335  0.18866413]\n",
            "23 0.10575179466472104 [-2.47535177  0.19411801  5.09590178  5.46873592  0.62219879  2.79493054\n",
            "  0.49942562  0.31057095  0.19000343]\n",
            "24 0.10800452565920654 [-2.51404364  0.19473479  5.08021674  5.37610622  0.62990172  2.82222033\n",
            "  0.49361995  0.31506946  0.19131058]\n",
            "25 0.11028251359174068 [-2.55359684  0.19514598  5.06489572  5.28109192  0.63760171  2.84907933\n",
            "  0.48775058  0.31966723  0.19258219]\n",
            "26 0.11256891105768885 [-2.59403967  0.19532424  5.04998251  5.18366896  0.64530496  2.87543672\n",
            "  0.48181417  0.32437138  0.19381445]\n",
            "27 0.11484070609851965 [-2.63539256  0.19524245  5.03552584  5.08382785  0.65301637  2.90121094\n",
            "  0.47580891  0.32918783  0.19500326]\n",
            "28 0.11706909687442527 [-2.67766651  0.19487312  5.02157878  4.9815807   0.66073971  2.92631028\n",
            "  0.46973463  0.33412117  0.1961442 ]\n",
            "29 0.11921982168765495 [-2.72086149  0.19418809  5.00819805  4.87696757  0.66847794  2.9506336\n",
            "  0.46359282  0.33917451  0.19723268]\n",
            "30 0.12125354319042397 [-2.76496467  0.19315847  4.99544297  4.7700625   0.67623353  2.97407125\n",
            "  0.45738676  0.34434927  0.19826397]\n",
            "31 0.12312637233883965 [-2.80994865  0.19175496  4.98337423  4.66097901  0.6840089   2.99650649\n",
            "  0.45112163  0.34964497  0.1992334 ]\n",
            "32 0.12479060117457803 [-2.85576975  0.18994829  4.97205224  4.54987505  0.69180687  3.01781728\n",
            "  0.44480463  0.35505891  0.20013645]\n",
            "33 0.12619569156115518 [-2.90236638  0.18771005  4.96153534  4.43695711  0.69963118  3.03787883\n",
            "  0.43844505  0.36058597  0.20096898]\n",
            "34 0.12728953926511238 [-2.94965761  0.18501367  4.9518776   4.32248328  0.70748703  3.05656672\n",
            "  0.43205436  0.36621828  0.20172736]\n",
            "35 0.12802000146251552 [-2.99754209  0.18183561  4.94312659  4.20676493  0.71538166  3.07376083\n",
            "  0.42564622  0.3719451   0.20240868]\n",
            "36 0.128336645519803 [-3.04589746  0.17815685  4.93532103  4.09016674  0.72332476  3.0893497\n",
            "  0.41923646  0.37775259  0.20301094]\n",
            "37 0.1281926536511083 [-3.09458024  0.17396439  4.92848861  3.97310469  0.73132886  3.10323547\n",
            "  0.41284299  0.38362383  0.20353319]\n",
            "38 0.12754680653963452 [-3.14342657  0.16925283  4.92264412  3.8560421   0.73940944  3.11533879\n",
            "  0.4064856   0.38953882  0.20397558]\n",
            "39 0.12636546984151167 [-3.1922536   0.16402589  4.91778812  3.73948331  0.74758473  3.12560354\n",
            "  0.40018574  0.39547475  0.20433951]\n",
            "40 0.12462451526372087 [-3.24086182  0.15829766  4.91390625  3.62396536  0.75587515  3.13400076\n",
            "  0.39396617  0.40140633  0.2046275 ]\n",
            "41 0.12231111210146683 [-3.28903824  0.15209356  4.91096951  3.51004757  0.76430235  3.14053129\n",
            "  0.38785052  0.40730629  0.20484319]\n",
            "42 0.11942531463253281 [-3.33656044  0.14545082  4.90893526  3.39829942  0.7728878   3.14522685\n",
            "  0.38186283  0.41314606  0.20499111]\n",
            "43 0.11598134073229546 [-3.38320138  0.13841827  4.90774913  3.28928703  0.78165098  3.14814916\n",
            "  0.37602697  0.4188965   0.20507653]\n",
            "44 0.11200839436829771 [-3.42873485  0.13105566  4.90734753  3.18355867  0.79060735  3.14938714\n",
            "  0.37036611  0.42452871  0.20510518]\n",
            "45 0.1075508483536298 [-3.47294146  0.12343216  4.90766058  3.08162982  0.79976623  3.14905245\n",
            "  0.36490206  0.43001491  0.20508304]\n",
            "46 0.10266759891966928 [-3.51561466  0.11562433  4.90861512  2.98396863  0.8091287   3.14727382\n",
            "  0.35965473  0.43532921  0.20501606]\n",
            "47 0.09743045052906345 [-3.55656677  0.10771359  4.91013749  2.89098224  0.81868597  3.14419084\n",
            "  0.3546416   0.44044838  0.20491002]\n",
            "48 0.09192149292615319 [-3.59563445  0.09978328  4.91215579  2.80300521  0.82841827  3.13994801\n",
            "  0.34987721  0.44535243  0.20477037]\n",
            "49 0.08622957775924026 [-3.63268326  0.09191569  4.91460156  2.72029049  0.83829446  3.13468955\n",
            "  0.34537285  0.45002502  0.20460213]\n",
            "50 0.08044615722970051 [-3.66761114  0.08418904  4.91741071  2.643004    0.8482726   3.12855552\n",
            "  0.34113632  0.45445378  0.2044099 ]\n",
            "51 0.07466087279459385 [-3.70035027  0.07667486  4.9205238   2.57122296  0.85830123  3.12167934\n",
            "  0.33717178  0.45863036  0.20419785]\n",
            "52 0.06895734382919558 [-3.73086754  0.0694358   4.92388591  2.50493842  0.86832157  3.1141867\n",
            "  0.3334799   0.46255032  0.20396978]\n",
            "53 0.06340958638329444 [-3.75916329  0.06252406  4.92744612  2.44406147  0.87827013  3.10619544\n",
            "  0.33005797  0.46621289  0.20372915]\n",
            "54 0.05807939458613835 [-3.78526873  0.05598046  4.93115699  2.38843266  0.8880817   3.09781605\n",
            "  0.32690021  0.46962063  0.20347916]\n",
            "55 0.05301486591434597 [-3.80924227  0.04983427  4.93497407  2.3378337   0.8976923   3.08915239\n",
            "  0.32399823  0.47277896  0.20322281]\n",
            "56 0.048250082479271206 [-3.83116499  0.04410355  4.93885565  2.29200043  0.90704189  3.08030222\n",
            "  0.32134144  0.47569569  0.20296287]\n",
            "57 0.04380581029510709 [-3.85113583  0.03879604  4.94276263  2.25063602  0.91607663  3.07135744\n",
            "  0.31891753  0.47838053  0.20270194]\n",
            "58 0.03969097395027009 [-3.86926665  0.03391045  4.94665869  2.21342349  0.92475049  3.06240387\n",
            "  0.31671299  0.4808446   0.20244241]\n",
            "59 0.03590461669721569 [-3.88567769  0.02943784  4.95051051  2.18003693  0.93302628  3.05352078\n",
            "  0.31471356  0.48309999  0.20218645]\n",
            "60 0.03243806210738069 [-3.9004934   0.02536325  4.95428814  2.15015098  0.94087607  3.04478018\n",
            "  0.31290459  0.48515939  0.20193601]\n",
            "61 0.029277039063569807 [-3.91383901  0.02166714  4.95796522  2.12344837  0.94828101  3.03624608\n",
            "  0.31127146  0.48703576  0.20169279]\n",
            "62 0.02640359872597464 [-3.9258376   0.01832683  4.96151929  2.09962552  0.95523081  3.02797386\n",
            "  0.3097998   0.48874201  0.20145819]\n",
            "63 0.023797723140351248 [-3.93660806  0.01531772  4.96493184  2.07839648  0.9617229   3.02000987\n",
            "  0.30847574  0.49029087  0.20123339]\n",
            "64 0.021438587827989228 [-3.94626345  0.0126143   4.96818838  2.0594953   0.96776138  3.01239132\n",
            "  0.30728608  0.49169465  0.20101927]\n",
            "65 0.019305488093066075 [-3.95490999  0.01019103  4.97127821  2.04267722  0.97335593  3.00514641\n",
            "  0.30621839  0.49296515  0.20081646]\n",
            "66 0.017378469024357163 [-3.96264647  0.00802291  4.97419428  2.02771885  0.97852074  2.9982948\n",
            "  0.30526105  0.49411359  0.20062536]\n",
            "67 0.01563871396355109 [-3.96956403  0.006086    4.9769328   2.01441779  0.98327341  2.99184822\n",
            "  0.30440332  0.49515052  0.20044616]\n",
            "68 0.01406874917393268 [-3.97574613e+00  4.35769310e-03  4.97949291e+00  2.00259162e+00\n",
            "  9.87634061e-01  2.98581136e+00  3.03635305e-01  4.96085824e-01\n",
            "  2.00278871e-01]\n",
            "69 0.01265251769057068 [-3.98126881e+00  2.81693801e-03  4.98187621e+00  1.99207670e+00\n",
            "  9.91624484e-01  2.98018273e+00  3.02947978e-01  4.96928696e-01\n",
            "  2.00123326e-01]\n",
            "70 0.0113753665483699 [-3.98620101e+00  1.44431412e-03  4.98408642e+00  1.98272672e+00\n",
            "  9.95267437e-01  2.97495564e+00  3.02333104e-01  4.97687654e-01\n",
            "  1.99979242e-01]\n",
            "71 0.01022398155061444 [-3.99060499e+00  2.22061534e-04  4.98612893e+00  1.97441126e+00\n",
            "  9.98586061e-01  2.97011914e+00  3.01783217e-01  4.98370555e-01\n",
            "  1.99846228e-01]\n",
            "72 0.009186294246335852 [-3.99453682e+00 -8.65951924e-04  4.98801041e+00  1.96701428e+00\n",
            "  1.00160341e+00  2.96565896e+00  3.01291566e-01  4.98984619e-01\n",
            "  1.99723815e-01]\n"
          ]
        },
        {
          "output_type": "execute_result",
          "data": {
            "text/plain": [
              "73"
            ]
          },
          "metadata": {},
          "execution_count": 87
        }
      ]
    },
    {
      "cell_type": "markdown",
      "source": [
        "## Problem-10\n",
        "\n",
        "Let us now verify the correctness of our algorithm. We know the true parameters here:\n",
        "\n",
        "$$\n",
        "\\boldsymbol{\\theta} = \\begin{bmatrix}\n",
        "-4\\\\\n",
        "0\\\\\n",
        "5\\\\\n",
        "2\\\\\n",
        "1\\\\\n",
        "3\\\\\n",
        "0.3\\\\\n",
        "0.5\\\\\n",
        "0.2\n",
        "\\end{bmatrix}\n",
        "$$\n",
        "\n",
        "Let $\\boldsymbol{\\theta}^{*}$ be the parameter at convergence. Compute the distance between this vector and the true parameter vector. Enter your answer correct to two decimal places. The smaller the distance, better our estimate."
      ],
      "metadata": {
        "id": "zB33Rp_4awWp"
      }
    },
    {
      "cell_type": "code",
      "source": [
        "theta=np.array([-4,0,5,2,1,3,0.3,0.5,0.2])\n",
        "print(theta_1)\n",
        "d = distance(theta, theta_1)\n",
        "d"
      ],
      "metadata": {
        "id": "WdfWCxQVbvBy",
        "colab": {
          "base_uri": "https://localhost:8080/"
        },
        "outputId": "96879110-95e5-4486-c290-5eaf713d5497"
      },
      "execution_count": 82,
      "outputs": [
        {
          "output_type": "stream",
          "name": "stdout",
          "text": [
            "[-3.99804688e+00 -1.83429910e-03  4.98973851e+00  1.96043270e+00\n",
            "  1.00434210e+00  2.96155828e+00  3.00852063e-01  4.99536461e-01\n",
            "  1.99611476e-01]\n"
          ]
        },
        {
          "output_type": "execute_result",
          "data": {
            "text/plain": [
              "0.0563538782086064"
            ]
          },
          "metadata": {},
          "execution_count": 82
        }
      ]
    },
    {
      "cell_type": "markdown",
      "source": [
        "## Problem-11\n",
        "\n",
        "We shall do a hard clustering of the data-points. Use the final `lamb` value obtained and cluster the points using:\n",
        "\n",
        "$$\n",
        "z_i = \\operatorname*{argmax} \\limits_{k} \\lambda_k^{i}\n",
        "$$\n",
        "\n",
        "Let $0$, $1$ and $2$ correspond to the colors red, blue and green respectively. Plot three colored histograms on the same figure, one for each cluster."
      ],
      "metadata": {
        "id": "oD5eJxOBMfN-"
      }
    },
    {
      "cell_type": "code",
      "source": [
        "z = np.argmax(lamb_1, axis=1)\n",
        "plt.hist(X[z==0], bins=100, color='red')\n",
        "plt.hist(X[z==1], bins=100, color ='blue')\n",
        "plt.hist(X[z==2], bins=100, color='green')\n",
        "# plt.hist(X,bins=100)\n",
        "plt.xlabel('data')\n",
        "plt.ylabel('pdf')\n",
        "plt.show()"
      ],
      "metadata": {
        "id": "NwRMqRTQgWbg",
        "colab": {
          "base_uri": "https://localhost:8080/",
          "height": 696
        },
        "outputId": "4e1dc896-2b2f-48a2-ced8-a5ae74f5e4a6"
      },
      "execution_count": 79,
      "outputs": [
        {
          "output_type": "display_data",
          "data": {
            "text/plain": [
              "<Figure size 800x800 with 1 Axes>"
            ],
            "image/png": "[encoded data removed]"
          },
          "metadata": {}
        }
      ]
    },
    {
      "cell_type": "markdown",
      "source": [
        "## Extras\n",
        "\n",
        "Here are some of the things that can be tried out:\n",
        "\n",
        "- Make the stopping criterion more stringent and see the effect it has on the number of iterations\n",
        "- Change the size of the dataset and study the effect it has on convergence.\n",
        "- Change the initialization and study the effect it has on convergence\n",
        "- Change the number of mixtures and see what happens"
      ],
      "metadata": {
        "id": "mLYpnfPd-aHq"
      }
    }
  ]
}