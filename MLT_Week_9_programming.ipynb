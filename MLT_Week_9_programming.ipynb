{
  "nbformat": 4,
  "nbformat_minor": 0,
  "metadata": {
    "colab": {
      "provenance": []
    },
    "kernelspec": {
      "name": "python3",
      "display_name": "Python 3"
    },
    "language_info": {
      "name": "python"
    }
  },
  "cells": [
    {
      "cell_type": "code",
      "execution_count": null,
      "metadata": {
        "id": "3TDibK0Yrxm_"
      },
      "outputs": [],
      "source": [
        "import numpy as np\n",
        "import matplotlib.pyplot as plt"
      ]
    },
    {
      "cell_type": "markdown",
      "source": [
        "# Week-9\n",
        "\n",
        "**Note to Learners**:\n",
        "\n",
        "- For questions that involve plotting, just enter $0$ as the answer in the portal.\n"
      ],
      "metadata": {
        "id": "1TBHlt7hAdN1"
      }
    },
    {
      "cell_type": "markdown",
      "source": [
        "## Dataset\n",
        "\n",
        "Run the cell given below to generate the data-matrix $\\mathbf{X}$, which is of shape $(n, d)$, where $n$ denotes the number of samples and $d$ denotes the number of features.\n",
        "\n",
        "**Do not edit this cell.**"
      ],
      "metadata": {
        "id": "XJKrscLo9qwH"
      }
    },
    {
      "cell_type": "code",
      "source": [
        "from sklearn.datasets import make_classification\n",
        "X, y = make_classification(n_samples=50, n_features=2, n_informative = 2, n_redundant = 0, n_clusters_per_class = 1, flip_y = 0, class_sep = 3, random_state=20)"
      ],
      "metadata": {
        "id": "d_H2VRQNsLly"
      },
      "execution_count": null,
      "outputs": []
    },
    {
      "cell_type": "markdown",
      "source": [
        "## Problem 1\n",
        "How many samples are there in the dataset?\n",
        "\n"
      ],
      "metadata": {
        "id": "VAONMkaU91v7"
      }
    },
    {
      "cell_type": "code",
      "source": [
        "n = X.shape[0]\n",
        "n"
      ],
      "metadata": {
        "colab": {
          "base_uri": "https://localhost:8080/"
        },
        "id": "9EWXmWeOXIKO",
        "outputId": "ac56e5a6-83d7-47b4-d0fc-2c642d2d8a98"
      },
      "execution_count": null,
      "outputs": [
        {
          "output_type": "execute_result",
          "data": {
            "text/plain": [
              "50"
            ]
          },
          "metadata": {},
          "execution_count": 109
        }
      ]
    },
    {
      "cell_type": "markdown",
      "source": [
        "## Problem 2\n",
        "\n",
        "How many features are there in the dataset?\n"
      ],
      "metadata": {
        "id": "ozjMS6e_91y3"
      }
    },
    {
      "cell_type": "code",
      "source": [
        "d = X.shape[1]\n",
        "d"
      ],
      "metadata": {
        "colab": {
          "base_uri": "https://localhost:8080/"
        },
        "id": "RiNtrHSYXNVV",
        "outputId": "ea743d23-c443-4cc2-9678-0c40d13e4a3c"
      },
      "execution_count": null,
      "outputs": [
        {
          "output_type": "execute_result",
          "data": {
            "text/plain": [
              "2"
            ]
          },
          "metadata": {},
          "execution_count": 110
        }
      ]
    },
    {
      "cell_type": "markdown",
      "source": [
        "## Problem 3\n",
        "In the target vector $y$, replace all occurrences of 0 with -1.\n",
        "\n",
        "How many unique classes are there in the target vector?\n",
        "\n"
      ],
      "metadata": {
        "id": "BOuGvyBUrGUH"
      }
    },
    {
      "cell_type": "code",
      "source": [
        "y[y==0] = -1\n",
        "np.count_nonzero(np.unique(y))"
      ],
      "metadata": {
        "colab": {
          "base_uri": "https://localhost:8080/"
        },
        "id": "fA2ovEl_XTlu",
        "outputId": "72cb4b4e-6e6e-4558-d804-80eb92b418ee"
      },
      "execution_count": null,
      "outputs": [
        {
          "output_type": "execute_result",
          "data": {
            "text/plain": [
              "2"
            ]
          },
          "metadata": {},
          "execution_count": 111
        }
      ]
    },
    {
      "cell_type": "markdown",
      "source": [
        "## Problem 4\n",
        "Plot the data keepig first feature on the x-axis and the second feature on the y-axis. Plot the data points belonging to each class in different colors. Does the data seem linearly separable?\n",
        "\n",
        "[MCQ]\n",
        "\n",
        "**Options:**\n",
        "\n",
        "(a) Yes\n",
        "\n",
        "(b) No\n",
        "\n"
      ],
      "metadata": {
        "id": "2mjZDVoIqzkJ"
      }
    },
    {
      "cell_type": "code",
      "source": [
        "plt.scatter(X[y==-1][:,0], X[y==-1][:,1], c='red')\n",
        "plt.scatter(X[y==1][:,0], X[y==1][:,1], c='green')\n",
        "plt.show()"
      ],
      "metadata": {
        "colab": {
          "base_uri": "https://localhost:8080/",
          "height": 430
        },
        "id": "f_9ot6XAYRV2",
        "outputId": "0b70841f-5c15-4780-c079-da2bd3390481"
      },
      "execution_count": null,
      "outputs": [
        {
          "output_type": "display_data",
          "data": {
            "text/plain": [
              "<Figure size 640x480 with 1 Axes>"
            ],
            "image/png": "[encoded data removed]"
          },
          "metadata": {}
        }
      ]
    },
    {
      "cell_type": "markdown",
      "source": [
        "## Problem 5\n",
        "\n",
        "Initialize w to be a zero vector, with shape equal to the number of features in the data.\n",
        "\n",
        "Iterate over each data point $x$ in $X$ one by one (in the same sequence as present in $X$). For each data point, compute the value of $w^Tx$. If $w^Tx \\ge 0$, predict positive class for $x$, else predict the negative class.\n",
        "\n",
        "If prediction does not match the actual class label, update the weight vector as per the following update rule:\n",
        "$$w_{new} = w_{old} + xy$$ where $x$ is the data point and $y$ is the actual label of $x$.\n",
        "\n",
        "Run the above for 10 epochs (iterations), but stop if there are no weight updates in an epoch.\n",
        "\n",
        "In which iteration, does the number of weight updates becomes zero for the first time?\n",
        "\n",
        "[NAT]\n",
        "**Options**\n",
        "\n",
        "(a) 1\n",
        "\n",
        "(b) 2\n",
        "\n",
        "(c) 3\n",
        "\n",
        "(d) 5\n",
        "\n"
      ],
      "metadata": {
        "id": "wBvVzKA-u9YM"
      }
    },
    {
      "cell_type": "code",
      "source": [
        "w = np.zeros(d)\n",
        "t = 10\n",
        "c = 0\n",
        "for j in range(10):\n",
        "  wu = 0\n",
        "  c = c + 1\n",
        "  for i in range(n):\n",
        "    x = X[i]\n",
        "    if(w @ x >= 0):\n",
        "      y_pred = 1\n",
        "    else:\n",
        "      y_pred = -1\n",
        "    if (y_pred != y[i]):\n",
        "      w = w + x * y[i]\n",
        "      wu = wu + 1\n",
        "  if(wu == 0):\n",
        "    break\n",
        "print(c)"
      ],
      "metadata": {
        "colab": {
          "base_uri": "https://localhost:8080/"
        },
        "id": "_bQ0x-7oZ6vg",
        "outputId": "73596c60-065c-4e7c-ac31-0fd4742ef9b3"
      },
      "execution_count": null,
      "outputs": [
        {
          "output_type": "stream",
          "name": "stdout",
          "text": [
            "2\n"
          ]
        }
      ]
    },
    {
      "cell_type": "markdown",
      "source": [
        "## Problem 6\n",
        "Plot the vector w and the decision boundary thus obtained.\n",
        "\n"
      ],
      "metadata": {
        "id": "3zs84_zyUMZG"
      }
    },
    {
      "cell_type": "code",
      "source": [
        "def orthogonal_vector(v):\n",
        "    # Generate a random vector u\n",
        "    u = np.random.rand(len(v))\n",
        "\n",
        "    # Make u orthogonal to v using Gram-Schmidt process\n",
        "    u -= np.dot(u, v) / np.dot(v, v) * v\n",
        "\n",
        "    # Normalize u to have unit length (optional, if you want a unit vector)\n",
        "    u /= np.linalg.norm(u)\n",
        "\n",
        "    return u"
      ],
      "metadata": {
        "id": "36hNTtt0jSo_"
      },
      "execution_count": null,
      "outputs": []
    },
    {
      "cell_type": "code",
      "source": [
        "orth = -30 * orthogonal_vector(w)\n",
        "plt.quiver(0, 0, orth[0], orth[1], angles='xy', scale_units='xy', scale=1, color='black', label='Vector w')\n",
        "plt.scatter(X[y==-1][:,0], X[y==-1][:,1], c='red')\n",
        "plt.scatter(X[y==1][:,0], X[y==1][:,1], c='green')\n",
        "plt.show()"
      ],
      "metadata": {
        "colab": {
          "base_uri": "https://localhost:8080/",
          "height": 430
        },
        "id": "KHKCggg4dICY",
        "outputId": "3ac98745-03ce-4d6b-ad0c-5c879643e072"
      },
      "execution_count": null,
      "outputs": [
        {
          "output_type": "display_data",
          "data": {
            "text/plain": [
              "<Figure size 640x480 with 1 Axes>"
            ],
            "image/png": "[encoded data removed]"
          },
          "metadata": {}
        }
      ]
    },
    {
      "cell_type": "markdown",
      "source": [
        "## Problem 7\n",
        "What is the value of loss using the weight vector obtained earlier?  \n"
      ],
      "metadata": {
        "id": "8jRORev-U_AQ"
      }
    },
    {
      "cell_type": "code",
      "source": [
        "def loss(X,y,w):\n",
        "  y_pred = (X@w >=0).astype(int)\n",
        "  y_pred[y_pred==0] = -1\n",
        "  return np.sum((y_pred != y).astype(int))"
      ],
      "metadata": {
        "id": "FqgQQYMylJvg"
      },
      "execution_count": null,
      "outputs": []
    },
    {
      "cell_type": "code",
      "source": [
        "loss(X,y,w)"
      ],
      "metadata": {
        "colab": {
          "base_uri": "https://localhost:8080/"
        },
        "id": "J8K6oRxglh6e",
        "outputId": "d3626e57-302d-459f-ffff-7964dde1cbd2"
      },
      "execution_count": null,
      "outputs": [
        {
          "output_type": "execute_result",
          "data": {
            "text/plain": [
              "0"
            ]
          },
          "metadata": {},
          "execution_count": 117
        }
      ]
    },
    {
      "cell_type": "markdown",
      "source": [
        "## Problem 8\n",
        "Now use the following data set, replace occurrences of 0 with -1 and visualize.\n",
        "\n",
        "**Do not edit the following cell.**\n",
        "\n"
      ],
      "metadata": {
        "id": "6Mv5kTYtVZ39"
      }
    },
    {
      "cell_type": "code",
      "source": [
        "from sklearn.datasets import make_classification\n",
        "X, y = make_classification(n_samples=50, n_features=2, n_informative = 2, n_redundant = 0, n_clusters_per_class = 1, flip_y = 0.1, class_sep = 2, random_state=20)"
      ],
      "metadata": {
        "id": "27pznw-oVeFq"
      },
      "execution_count": null,
      "outputs": []
    },
    {
      "cell_type": "code",
      "source": [
        "y[y==0] = -1\n",
        "y"
      ],
      "metadata": {
        "colab": {
          "base_uri": "https://localhost:8080/"
        },
        "id": "AUgbuRCMls2f",
        "outputId": "18b5b446-fea3-4860-9dde-c685af1f57fe"
      },
      "execution_count": null,
      "outputs": [
        {
          "output_type": "execute_result",
          "data": {
            "text/plain": [
              "array([ 1, -1,  1,  1, -1, -1,  1,  1,  1, -1, -1, -1,  1, -1, -1,  1, -1,\n",
              "        1,  1, -1,  1,  1, -1,  1, -1, -1,  1, -1,  1,  1, -1, -1, -1,  1,\n",
              "        1,  1, -1,  1, -1,  1,  1, -1, -1, -1, -1,  1,  1,  1, -1, -1])"
            ]
          },
          "metadata": {},
          "execution_count": 119
        }
      ]
    },
    {
      "cell_type": "markdown",
      "source": [
        "## Problem 9\n",
        "\n",
        "Apply the Perceptron code again.\n",
        "\n",
        "What is the number of weight updates performed in epoch 10?\n",
        "\n"
      ],
      "metadata": {
        "id": "jLlsj651cjtm"
      }
    },
    {
      "cell_type": "code",
      "source": [
        "w = np.zeros(d)\n",
        "t = 10\n",
        "c = 0\n",
        "total_wu = 0\n",
        "for j in range(10):\n",
        "  wu = 0\n",
        "  c = c + 1\n",
        "  for i in range(n):\n",
        "    x = X[i]\n",
        "    if(w @ x >= 0):\n",
        "      y_pred = 1\n",
        "    else:\n",
        "      y_pred = -1\n",
        "    if (y_pred != y[i]):\n",
        "      w = w + x * y[i]\n",
        "      wu = wu + 1\n",
        "  total_wu = total_wu + wu\n",
        "  if(wu == 0):\n",
        "    break\n",
        "print(total_wu, c)"
      ],
      "metadata": {
        "colab": {
          "base_uri": "https://localhost:8080/"
        },
        "id": "WLrzkkutmSOZ",
        "outputId": "e80aad26-762e-4b72-9251-423c28ff92a5"
      },
      "execution_count": null,
      "outputs": [
        {
          "output_type": "stream",
          "name": "stdout",
          "text": [
            "112 10\n"
          ]
        }
      ]
    },
    {
      "cell_type": "markdown",
      "source": [
        "## Problem 10\n",
        "Visualize the weight vector and the decision boundary.\n",
        "\n"
      ],
      "metadata": {
        "id": "iVxGOLbocqVv"
      }
    },
    {
      "cell_type": "code",
      "source": [
        "orth = -30 * orthogonal_vector(w)\n",
        "plt.quiver(0, 0, orth[0], orth[1], angles='xy', scale_units='xy', scale=1, color='black', label='Vector w')\n",
        "plt.scatter(X[y==-1][:,0], X[y==-1][:,1], c='red')\n",
        "plt.scatter(X[y==1][:,0], X[y==1][:,1], c='green')\n",
        "plt.show()"
      ],
      "metadata": {
        "colab": {
          "base_uri": "https://localhost:8080/",
          "height": 430
        },
        "id": "SPS2pYvPn1K2",
        "outputId": "98202f18-0605-4c95-ee4e-f9159ab3332a"
      },
      "execution_count": null,
      "outputs": [
        {
          "output_type": "display_data",
          "data": {
            "text/plain": [
              "<Figure size 640x480 with 1 Axes>"
            ],
            "image/png": "[encoded data removed]"
          },
          "metadata": {}
        }
      ]
    },
    {
      "cell_type": "markdown",
      "source": [
        "## Problem 11\n",
        "What is the value of loss using the weight vector obtained in the 10th epoch?"
      ],
      "metadata": {
        "id": "ykOftt0VoOUJ"
      }
    },
    {
      "cell_type": "code",
      "source": [
        "loss(X,y,w)"
      ],
      "metadata": {
        "colab": {
          "base_uri": "https://localhost:8080/"
        },
        "id": "OkaBEJ_Soy8p",
        "outputId": "f3e6921a-d032-4a99-8f3d-4d436249915b"
      },
      "execution_count": null,
      "outputs": [
        {
          "output_type": "execute_result",
          "data": {
            "text/plain": [
              "4"
            ]
          },
          "metadata": {},
          "execution_count": 122
        }
      ]
    }
  ]
}